{
 "cells": [
  {
   "cell_type": "code",
   "execution_count": 1,
   "metadata": {},
   "outputs": [],
   "source": [
    "import json\n",
    "import os\n",
    "out_path = \"D:\\Downloads\\PyTorch\"\n",
    "delete_frame_only = ['83918', '40317', '53149', '59013', '94015', '94811', '66415', '640', '56263', '30363', '634', '83918', '53800', '68066', '65423', '87665', '32717', '66927', '39533', '82571', '81742', '77771', '40023', '66927', '57045', '72346', '50054', '91451', '85490', '13819', '45302', '70601', '98193', '6719', '9773', '27278', '70733', '57045', '8417', '72346', '56294', '25439', '30699', '9990', '37078', '27195', '56564', '26819', '81742']\n",
    "annotation_path = r\"D:\\Downloads\\PyTorch\\tt100kv3\\annotations_modified.json\"\n",
    "def modify_annotation(delete_frame_only, annotation_path, out_path):\n",
    "    # Mở file annotation\n",
    "    with open(annotation_path, \"r\") as f:\n",
    "        annotations = json.load(f)\n",
    "    # Tạo bản sao dữ liệu gốc để duyệt\n",
    "    original_imgs = annotations[\"imgs\"].copy()\n",
    "    # print(delete_frame_only)\n",
    "    # removed_count = 0\n",
    "    # for img_id, img_info in original_imgs.items():\n",
    "    #     if img_id in delete_frame_only or os.path.dirname(img_info['path']) == 'other':\n",
    "    #         del annotations[\"imgs\"][str(img_id)]\n",
    "    #         removed_count += 1\n",
    "    # print(f\"Đã loại bỏ {removed_count} ảnh khỏi annotations.\")\n",
    "    for img_id, img_info in original_imgs.items():\n",
    "        if img_info['path'].find('working'):\n",
    "            old_path = img_info[\"path\"]\n",
    "            new_path = \"/\".join(old_path.split(\"/\")[-2:])\n",
    "            img_info[\"path\"] = new_path\n",
    "    # Lưu lại file annotation đã cập nhật\n",
    "    modified_annotation_path = os.path.join(out_path, \"annotations_modified.json\")\n",
    "    with open(modified_annotation_path, \"w\") as file:\n",
    "        json.dump(annotations, file, indent=4)\n",
    "\n",
    "    print(\"File annotation đã được cập nhật và lưu lại.\")"
   ]
  },
  {
   "cell_type": "code",
   "execution_count": 2,
   "metadata": {},
   "outputs": [
    {
     "name": "stdout",
     "output_type": "stream",
     "text": [
      "File annotation đã được cập nhật và lưu lại.\n"
     ]
    }
   ],
   "source": [
    "modify_annotation(delete_frame_only, annotation_path, out_path)"
   ]
  }
 ],
 "metadata": {
  "kernelspec": {
   "display_name": "base",
   "language": "python",
   "name": "python3"
  },
  "language_info": {
   "codemirror_mode": {
    "name": "ipython",
    "version": 3
   },
   "file_extension": ".py",
   "mimetype": "text/x-python",
   "name": "python",
   "nbconvert_exporter": "python",
   "pygments_lexer": "ipython3",
   "version": "3.11.7"
  }
 },
 "nbformat": 4,
 "nbformat_minor": 2
}
